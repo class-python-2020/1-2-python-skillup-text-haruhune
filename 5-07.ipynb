{
 "metadata": {
  "language_info": {
   "codemirror_mode": {
    "name": "ipython",
    "version": 3
   },
   "file_extension": ".py",
   "mimetype": "text/x-python",
   "name": "python",
   "nbconvert_exporter": "python",
   "pygments_lexer": "ipython3",
   "version": "3.8.2-final"
  },
  "orig_nbformat": 2,
  "kernelspec": {
   "name": "python_defaultSpec_1597559630930",
   "display_name": "Python 3.8.2 32-bit"
  }
 },
 "nbformat": 4,
 "nbformat_minor": 2,
 "cells": [
  {
   "cell_type": "code",
   "execution_count": 32,
   "metadata": {},
   "outputs": [
    {
     "output_type": "execute_result",
     "data": {
      "text/plain": "{1: 'Hokkaido', 2: 'Aomori', 3: 'Iwate'}"
     },
     "metadata": {},
     "execution_count": 32
    }
   ],
   "source": [
    "prefecture_of_japan = {1: 'Hokkaido', 2: 'Aomori', 3: 'Iwate'}\n",
    "prefecture_of_japan"
   ]
  },
  {
   "cell_type": "code",
   "execution_count": 33,
   "metadata": {},
   "outputs": [
    {
     "output_type": "execute_result",
     "data": {
      "text/plain": "'Hokkaido'"
     },
     "metadata": {},
     "execution_count": 33
    }
   ],
   "source": [
    "prefecture_of_japan[1]"
   ]
  },
  {
   "cell_type": "code",
   "execution_count": 34,
   "metadata": {
    "tags": []
   },
   "outputs": [
    {
     "output_type": "stream",
     "name": "stdout",
     "text": "None\n"
    }
   ],
   "source": [
    "print(prefecture_of_japan.get(0))"
   ]
  },
  {
   "cell_type": "code",
   "execution_count": 35,
   "metadata": {
    "tags": []
   },
   "outputs": [
    {
     "output_type": "stream",
     "name": "stdout",
     "text": "Hokkaido\n"
    }
   ],
   "source": [
    "print(prefecture_of_japan.get(1))"
   ]
  },
  {
   "cell_type": "code",
   "execution_count": 36,
   "metadata": {
    "tags": []
   },
   "outputs": [
    {
     "output_type": "stream",
     "name": "stdout",
     "text": "Not Found\n"
    }
   ],
   "source": [
    "print(prefecture_of_japan.get(0, 'Not Found'))"
   ]
  },
  {
   "cell_type": "code",
   "execution_count": 37,
   "metadata": {},
   "outputs": [
    {
     "output_type": "execute_result",
     "data": {
      "text/plain": "{1: 'Hokkaido', 2: 'Aomori', 3: 'Iwate', 4: 'Miyagi'}"
     },
     "metadata": {},
     "execution_count": 37
    }
   ],
   "source": [
    "prefecture_of_japan[4] = 'Miyagi'\n",
    "prefecture_of_japan"
   ]
  },
  {
   "cell_type": "code",
   "execution_count": 38,
   "metadata": {},
   "outputs": [
    {
     "output_type": "execute_result",
     "data": {
      "text/plain": "True"
     },
     "metadata": {},
     "execution_count": 38
    }
   ],
   "source": [
    "1 in prefecture_of_japan"
   ]
  },
  {
   "cell_type": "code",
   "execution_count": 39,
   "metadata": {},
   "outputs": [
    {
     "output_type": "execute_result",
     "data": {
      "text/plain": "{1: 'Hokkaido', 2: 'Aomori', 3: 'Iwate'}"
     },
     "metadata": {},
     "execution_count": 39
    }
   ],
   "source": [
    "del prefecture_of_japan[4]\n",
    "prefecture_of_japan"
   ]
  },
  {
   "cell_type": "code",
   "execution_count": 40,
   "metadata": {},
   "outputs": [
    {
     "output_type": "execute_result",
     "data": {
      "text/plain": "'Iwate'"
     },
     "metadata": {},
     "execution_count": 40
    }
   ],
   "source": [
    "prefecture_of_japan.pop(3)"
   ]
  },
  {
   "cell_type": "code",
   "execution_count": 42,
   "metadata": {},
   "outputs": [
    {
     "output_type": "execute_result",
     "data": {
      "text/plain": "{1: 'Hokkaido', 2: 'Aomori'}"
     },
     "metadata": {},
     "execution_count": 42
    }
   ],
   "source": [
    "prefecture_of_japan"
   ]
  },
  {
   "cell_type": "code",
   "execution_count": 44,
   "metadata": {},
   "outputs": [
    {
     "output_type": "execute_result",
     "data": {
      "text/plain": "{}"
     },
     "metadata": {},
     "execution_count": 44
    }
   ],
   "source": [
    "prefecture_of_japan.clear()\n",
    "prefecture_of_japan"
   ]
  },
  {
   "cell_type": "code",
   "execution_count": 46,
   "metadata": {
    "tags": []
   },
   "outputs": [
    {
     "output_type": "stream",
     "name": "stdout",
     "text": "1\n2\n3\n"
    }
   ],
   "source": [
    "prefecture_of_japan = {1: 'Hokkaido', 2: 'Aomori', 3: 'Iwate'}\n",
    "for x in prefecture_of_japan:\n",
    "    print(x)"
   ]
  },
  {
   "cell_type": "code",
   "execution_count": 48,
   "metadata": {
    "tags": []
   },
   "outputs": [
    {
     "output_type": "stream",
     "name": "stdout",
     "text": "1\n2\n3\n"
    }
   ],
   "source": [
    "for x in prefecture_of_japan.keys():\n",
    "    print(x)"
   ]
  },
  {
   "cell_type": "code",
   "execution_count": 50,
   "metadata": {
    "tags": []
   },
   "outputs": [
    {
     "output_type": "stream",
     "name": "stdout",
     "text": "Hokkaido\nAomori\nIwate\n"
    }
   ],
   "source": [
    "for x in prefecture_of_japan.values():\n",
    "    print(x)"
   ]
  },
  {
   "cell_type": "code",
   "execution_count": 52,
   "metadata": {
    "tags": []
   },
   "outputs": [
    {
     "output_type": "stream",
     "name": "stdout",
     "text": "1 Hokkaido\n2 Aomori\n3 Iwate\n"
    }
   ],
   "source": [
    "for key, x in prefecture_of_japan.items():\n",
    "    print(key, x)"
   ]
  },
  {
   "cell_type": "code",
   "execution_count": 54,
   "metadata": {},
   "outputs": [
    {
     "output_type": "execute_result",
     "data": {
      "text/plain": "{1: 'Hokkaido', 2: 'Aomori', 3: 'Iwate'}"
     },
     "metadata": {},
     "execution_count": 54
    }
   ],
   "source": [
    "list1 = [1, 2, 3]\n",
    "list2 = ['Hokkaido', 'Aomori', 'Iwate']\n",
    "dict(zip(list1, list2))"
   ]
  },
  {
   "cell_type": "code",
   "execution_count": 56,
   "metadata": {
    "tags": []
   },
   "outputs": [
    {
     "output_type": "stream",
     "name": "stdout",
     "text": "Tokyo\nYuurakuchou\nShinbashi\n"
    }
   ],
   "source": [
    "yamanote_line = {0: 'Tokyo', 1: 'Yuurakuchou', 2: 'Shinbashi'}\n",
    "for v in yamanote_line.values():\n",
    "    print(v)"
   ]
  },
  {
   "cell_type": "code",
   "execution_count": 58,
   "metadata": {},
   "outputs": [
    {
     "output_type": "execute_result",
     "data": {
      "text/plain": "[['0001', 'Male', 'Yamada', 'Tarou', 25, 'Tokyo'],\n ['0002', 'Male', 'Satou', 'Takeshi', 27, 'Kanagawa'],\n ['0003', 'Female', 'Tanaka', 'Yuko', 25, 'Saitama'],\n ['0004', 'Male', 'Suzuki', 'Ichirou', 35, 'Hokkaido']]"
     },
     "metadata": {},
     "execution_count": 58
    }
   ],
   "source": [
    "#表データの生成\n",
    "data = [\n",
    "    ['0001', 'Male', 'Yamada', 'Tarou', 25, 'Tokyo'],\n",
    "    ['0002', 'Male', 'Satou', 'Takeshi', 27, 'Kanagawa'],\n",
    "    ['0003', 'Female', 'Tanaka', 'Yuko', 25, 'Saitama'],\n",
    "    ['0004', 'Male', 'Suzuki', 'Ichirou', 35, 'Hokkaido']\n",
    "]\n",
    "data"
   ]
  },
  {
   "cell_type": "code",
   "execution_count": 60,
   "metadata": {},
   "outputs": [],
   "source": [
    "#辞書変数生成\n",
    "member_infomation = {}\n",
    "\n",
    "#表データをレコード毎に格納する\n",
    "for record in data:\n",
    "    key = record[0]\n",
    "    info = record[1:]\n",
    "    member_infomation[key] = info"
   ]
  },
  {
   "cell_type": "code",
   "execution_count": 62,
   "metadata": {
    "tags": []
   },
   "outputs": [
    {
     "output_type": "stream",
     "name": "stdout",
     "text": "number\tinfomation\n0001 ['Male', 'Yamada', 'Tarou', 25, 'Tokyo']\n0002 ['Male', 'Satou', 'Takeshi', 27, 'Kanagawa']\n0003 ['Female', 'Tanaka', 'Yuko', 25, 'Saitama']\n0004 ['Male', 'Suzuki', 'Ichirou', 35, 'Hokkaido']\n"
    }
   ],
   "source": [
    "#結果を表示する\n",
    "print('number', 'infomation', sep='\\t')\n",
    "for key, info in member_infomation.items():\n",
    "    print(key, info)"
   ]
  }
 ]
}